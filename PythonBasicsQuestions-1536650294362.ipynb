{
 "cells": [
  {
   "cell_type": "markdown",
   "metadata": {},
   "source": [
    "<img src='https://www.insaid.co/wp-content/uploads/2018/04/INSAID_Logo-1.png' height=\"240\" width=\"360\"/>\n",
    "<br/>\n",
    "# Python basics"
   ]
  },
  {
   "cell_type": "markdown",
   "metadata": {
    "collapsed": true
   },
   "source": [
    "### 1.Write a Python program to print the following string\n",
    "\n",
    "Sample String: \"Welcome to INSAID- International School of AI and Data Science\"\n",
    "\n"
   ]
  },
  {
   "cell_type": "code",
   "execution_count": 1,
   "metadata": {},
   "outputs": [
    {
     "name": "stdout",
     "output_type": "stream",
     "text": [
      "Welcome to INSAID- International School of AI and Data Science\n"
     ]
    }
   ],
   "source": [
    "print(\"Welcome to INSAID- International School of AI and Data Science\")"
   ]
  },
  {
   "cell_type": "markdown",
   "metadata": {},
   "source": [
    "### 1.1 In a “Hello, World!” program, a comment may look like this:"
   ]
  },
  {
   "cell_type": "code",
   "execution_count": 7,
   "metadata": {},
   "outputs": [
    {
     "name": "stdout",
     "output_type": "stream",
     "text": [
      "Hello, World!\n"
     ]
    }
   ],
   "source": [
    "# Print “Hello, World!” to console\n",
    "print('Hello, World!')"
   ]
  },
  {
   "cell_type": "code",
   "execution_count": 4,
   "metadata": {},
   "outputs": [
    {
     "name": "stdout",
     "output_type": "stream",
     "text": [
      "hammer\n",
      "white\n",
      "fish\n",
      "frilled\n",
      "bullhead\n",
      "requiem\n"
     ]
    }
   ],
   "source": [
    "# Define sharks variable as a list of strings ('hammer', 'white', 'fish', 'frilled', 'bullhead', 'requiem')\n",
    "sharks = ['hammer', 'white', 'fish', 'frilled', 'bullhead', 'requiem']\n",
    "\n",
    "# For loop that iterates over sharks list and prints each string item\n",
    "for shark in sharks:\n",
    "    print(shark)"
   ]
  },
  {
   "cell_type": "markdown",
   "metadata": {},
   "source": [
    "### 2.Write a Python Program to Add Two Numbers"
   ]
  },
  {
   "cell_type": "code",
   "execution_count": 8,
   "metadata": {},
   "outputs": [
    {
     "name": "stdout",
     "output_type": "stream",
     "text": [
      "30\n"
     ]
    }
   ],
   "source": [
    "# initialise two varaibles\n",
    "var1 = 10\n",
    "var2 = 20\n",
    "# Add two numbers\n",
    "sum_result = var1+var2\n",
    "\n",
    "# Display the sum\n",
    "print(sum_result)"
   ]
  },
  {
   "cell_type": "markdown",
   "metadata": {},
   "source": [
    "### 3.Write a Python Program to Find the product of two numbers"
   ]
  },
  {
   "cell_type": "code",
   "execution_count": 10,
   "metadata": {},
   "outputs": [
    {
     "name": "stdout",
     "output_type": "stream",
     "text": [
      "200\n"
     ]
    }
   ],
   "source": [
    "# initialise two varaibles\n",
    "var1 = 10\n",
    "var2 = 20\n",
    "\n",
    "# multiply two numbers\n",
    "multiply_result = var1*var2\n",
    "\n",
    "# Display the sum\n",
    "print(multiply_result)"
   ]
  },
  {
   "cell_type": "markdown",
   "metadata": {},
   "source": [
    "### 4.Write a python program to find the area of triangle given height and base of the triangle as 3 and 10."
   ]
  },
  {
   "cell_type": "code",
   "execution_count": 12,
   "metadata": {},
   "outputs": [
    {
     "name": "stdout",
     "output_type": "stream",
     "text": [
      "15.0\n"
     ]
    }
   ],
   "source": [
    "# Area of the triangle A= 1/2(base * height)\n",
    "h = 3\n",
    "b = 10\n",
    "#given height=3 and base =10\n",
    "area = 0.5*(b*h)\n",
    "print(area)\n"
   ]
  },
  {
   "cell_type": "markdown",
   "metadata": {},
   "source": [
    "### 5.Python Program to Swap Two Variables"
   ]
  },
  {
   "cell_type": "code",
   "execution_count": 14,
   "metadata": {},
   "outputs": [
    {
     "name": "stdout",
     "output_type": "stream",
     "text": [
      "a= 10, b= 20\n",
      "a= 20, b= 10\n"
     ]
    }
   ],
   "source": [
    "# initialise two varaibles\n",
    "a = 10\n",
    "b =20\n",
    "\n",
    "print(\"a= {}, b= {}\".format(a,b))\n",
    "# create a temporary variable and swap the values\n",
    "temp = b\n",
    "b = a\n",
    "a = temp\n",
    "print(\"a= {}, b= {}\".format(a,b))\n",
    "\n"
   ]
  },
  {
   "cell_type": "markdown",
   "metadata": {},
   "source": [
    "## Section"
   ]
  },
  {
   "cell_type": "markdown",
   "metadata": {
    "collapsed": true
   },
   "source": [
    "### 1.Write a python program to print datatype of a varaible"
   ]
  },
  {
   "cell_type": "code",
   "execution_count": 18,
   "metadata": {},
   "outputs": [
    {
     "name": "stdout",
     "output_type": "stream",
     "text": [
      "<class 'int'>\n",
      "<class 'float'>\n",
      "<class 'complex'>\n"
     ]
    }
   ],
   "source": [
    "a = 1\n",
    "\n",
    "b = 2.0\n",
    "\n",
    "c = 1+2j\n",
    "print(type(a))\n",
    "print(type(b))\n",
    "print(type(c))"
   ]
  },
  {
   "cell_type": "markdown",
   "metadata": {},
   "source": [
    "### 2.Write a python program to extract an item or a range of items from a list.\n",
    "\n"
   ]
  },
  {
   "cell_type": "code",
   "execution_count": 27,
   "metadata": {},
   "outputs": [
    {
     "name": "stdout",
     "output_type": "stream",
     "text": [
      "35\n",
      "[15, 20, 35]\n",
      "[30, 35, 60]\n"
     ]
    }
   ],
   "source": [
    "a = [15,20,35,40,45,30,35,60]\n",
    "\n",
    "# Print the item at index 2\n",
    "print(a[2])\n",
    "# Print the first 3 items\n",
    "print(a[:3])\n",
    "# Print the last 3 items\n",
    "print(a[5:])\n",
    "# Start to third last item"
   ]
  },
  {
   "cell_type": "markdown",
   "metadata": {},
   "source": [
    "### 3.Converting Floats to Integers\n"
   ]
  },
  {
   "cell_type": "code",
   "execution_count": 29,
   "metadata": {},
   "outputs": [
    {
     "name": "stdout",
     "output_type": "stream",
     "text": [
      "125\n",
      "390\n"
     ]
    }
   ],
   "source": [
    "b = 125.0\n",
    "c = 390.8\n",
    "print(int(b))\n",
    "print(int(c))\n",
    "# Print the Integer values"
   ]
  },
  {
   "cell_type": "markdown",
   "metadata": {},
   "source": [
    "### 4.Converting Numbers to Strings"
   ]
  },
  {
   "cell_type": "code",
   "execution_count": 35,
   "metadata": {},
   "outputs": [
    {
     "name": "stdout",
     "output_type": "stream",
     "text": [
      "10 is of type <class 'int'>\n",
      "10\n",
      "10\n"
     ]
    }
   ],
   "source": [
    "a = 10\n",
    "\n",
    "print(a, \"is of type\", type(a))\n",
    "\n",
    "# Convert the value in a to a string and then print\n",
    "print(str(a))"
   ]
  },
  {
   "cell_type": "markdown",
   "metadata": {},
   "source": [
    "### 5.Converting Strings to Numbers"
   ]
  },
  {
   "cell_type": "code",
   "execution_count": 37,
   "metadata": {},
   "outputs": [
    {
     "name": "stdout",
     "output_type": "stream",
     "text": [
      "58\n"
     ]
    }
   ],
   "source": [
    "a = \"50\"\n",
    "b = \"108\"\n",
    "\n",
    "# Find the difference between a and b\n",
    "print(int(b) - int(a))"
   ]
  },
  {
   "cell_type": "markdown",
   "metadata": {},
   "source": [
    "### 6.Converting list to Tuples"
   ]
  },
  {
   "cell_type": "code",
   "execution_count": 41,
   "metadata": {},
   "outputs": [
    {
     "name": "stdout",
     "output_type": "stream",
     "text": [
      "['request', 'source', 'repository', 'branch']\n",
      "('request', 'source', 'repository', 'branch')\n"
     ]
    }
   ],
   "source": [
    "myList = ['request', 'source', 'repository', 'branch']\n",
    "print(myList)\n",
    "myTuple = tuple(myList)\n",
    "# Print myList to a Tuple\n",
    "print(myTuple)"
   ]
  },
  {
   "cell_type": "markdown",
   "metadata": {},
   "source": [
    "### 7.Converting tuple to Lists"
   ]
  },
  {
   "cell_type": "code",
   "execution_count": 42,
   "metadata": {},
   "outputs": [
    {
     "name": "stdout",
     "output_type": "stream",
     "text": [
      "['blue', 'red', 'white']\n"
     ]
    }
   ],
   "source": [
    "myTuple = ('blue', 'red', 'white')\n",
    "\n",
    "# Print myTuple to a List\n",
    "print(list(myTuple))"
   ]
  },
  {
   "cell_type": "markdown",
   "metadata": {
    "collapsed": true
   },
   "source": [
    "### 8.converting strings to lists:"
   ]
  },
  {
   "cell_type": "code",
   "execution_count": 43,
   "metadata": {},
   "outputs": [
    {
     "name": "stdout",
     "output_type": "stream",
     "text": [
      "['I', 'N', 'S', 'A', 'I', 'D']\n"
     ]
    }
   ],
   "source": [
    "myString = 'INSAID'\n",
    "\n",
    "# Convert myString to List\n",
    "print(list(myString))"
   ]
  },
  {
   "cell_type": "markdown",
   "metadata": {},
   "source": [
    "### 9.Assign different data types to a varibles"
   ]
  },
  {
   "cell_type": "code",
   "execution_count": 96,
   "metadata": {},
   "outputs": [
    {
     "name": "stdout",
     "output_type": "stream",
     "text": [
      "<class 'dict'>\n"
     ]
    }
   ],
   "source": [
    "# Try string, float, boolean, list, tuple, dictionary\n",
    "mystring = \"hello\"\n",
    "myfloat = 10.0\n",
    "mybool = True\n",
    "myList = [1,2,3]\n",
    "mytuple = (1,2,3)\n",
    "mydict = {'a': 10, 'b': 20}\n",
    "print(type(mydict))"
   ]
  },
  {
   "cell_type": "markdown",
   "metadata": {},
   "source": [
    "## Section"
   ]
  },
  {
   "cell_type": "markdown",
   "metadata": {
    "collapsed": true
   },
   "source": [
    "### Print out a string that uses a formatter"
   ]
  },
  {
   "cell_type": "code",
   "execution_count": 86,
   "metadata": {},
   "outputs": [
    {
     "name": "stdout",
     "output_type": "stream",
     "text": [
      "john has 5 cars.\n"
     ]
    }
   ],
   "source": [
    "# Print \"john has 5 cars.\" using formatter\n",
    "print(\"john has {} cars.\".format(5))"
   ]
  },
  {
   "cell_type": "markdown",
   "metadata": {},
   "source": [
    "### We can also assign a variable to be equal to the value of a string that has formatter placeholders:"
   ]
  },
  {
   "cell_type": "code",
   "execution_count": 84,
   "metadata": {},
   "outputs": [
    {
     "name": "stdout",
     "output_type": "stream",
     "text": [
      "john likes open source.\n"
     ]
    }
   ],
   "source": [
    "open_string = \"john likes {}.\"\n",
    "\n",
    "# Use format method to print the following output \"john likes open source.\"\n",
    "print(open_string.format(\"open source\"))"
   ]
  },
  {
   "cell_type": "markdown",
   "metadata": {},
   "source": [
    "### Using Formatters with Multiple Placeholders"
   ]
  },
  {
   "cell_type": "code",
   "execution_count": 85,
   "metadata": {},
   "outputs": [
    {
     "name": "stdout",
     "output_type": "stream",
     "text": [
      "john likes open-sorce software.\n"
     ]
    }
   ],
   "source": [
    "new_open_string = \"john likes {} {}.\"                      #2 {} placeholders\n",
    "# Pass 2 strings into format method, separated by a comma to get output \"john likes open-source software.\"\n",
    "print(new_open_string.format(\"open-sorce\", \"software\"))"
   ]
  },
  {
   "cell_type": "code",
   "execution_count": 87,
   "metadata": {},
   "outputs": [
    {
     "name": "stdout",
     "output_type": "stream",
     "text": [
      "john loves open-sorce software, and has 5 balloons.\n"
     ]
    }
   ],
   "source": [
    "sammy_string = \"john loves {} {}, and has {} {}.\"                      #4 {} placeholders\n",
    "# Pass 4 strings into method to get output \"john loves open-source software, and has 5 balloons.\"\n",
    "print(sammy_string.format(\"open-sorce\", \"software\", 5, \"balloons\"))"
   ]
  },
  {
   "cell_type": "markdown",
   "metadata": {},
   "source": [
    "### Reordering Formatters with Positional and Keyword Arguments\n"
   ]
  },
  {
   "cell_type": "code",
   "execution_count": 88,
   "metadata": {},
   "outputs": [
    {
     "name": "stdout",
     "output_type": "stream",
     "text": [
      "john the shark has a pet pilot fish!\n"
     ]
    }
   ],
   "source": [
    "# Reference sample\n",
    "print(\"john the {} has a pet {}!\".format(\"shark\", \"pilot fish\"))"
   ]
  },
  {
   "cell_type": "markdown",
   "metadata": {},
   "source": [
    "### We can pass these index numbers into the curly braces that serve as the placeholders in the original string:"
   ]
  },
  {
   "cell_type": "code",
   "execution_count": 89,
   "metadata": {},
   "outputs": [
    {
     "name": "stdout",
     "output_type": "stream",
     "text": [
      "john the shark has a pet pilot fish!\n",
      "john is a happy, smiling, and blue shark!\n"
     ]
    }
   ],
   "source": [
    "# Reference Sample\n",
    "print(\"john the {0} has a pet {1}!\".format(\"shark\", \"pilot fish\"))\n",
    "\n",
    "print(\"john is a {}, {}, and {} {}!\".format(\"happy\", \"smiling\", \"blue\", \"shark\"))\n"
   ]
  },
  {
   "cell_type": "markdown",
   "metadata": {},
   "source": [
    "### Python Program to Get String Input from User\n"
   ]
  },
  {
   "cell_type": "code",
   "execution_count": 90,
   "metadata": {},
   "outputs": [
    {
     "name": "stdout",
     "output_type": "stream",
     "text": [
      "Enter any string: Raj\n",
      "Raj\n"
     ]
    }
   ],
   "source": [
    "#Enter any string and print it\n",
    "print(str(input('Enter any string: ')))"
   ]
  },
  {
   "cell_type": "markdown",
   "metadata": {
    "collapsed": true
   },
   "source": [
    "### Python program for conditional statements\n",
    "\n",
    "### 1)If the student receives over 65% on her test, report that her grade passes; if not, report that her grade fails"
   ]
  },
  {
   "cell_type": "code",
   "execution_count": 97,
   "metadata": {},
   "outputs": [
    {
     "name": "stdout",
     "output_type": "stream",
     "text": [
      "your grade passes\n"
     ]
    }
   ],
   "source": [
    "grade = 70\n",
    "if(grade>65):\n",
    "    print(\"your grade passes\")\n",
    "else:\n",
    "    print(\"your grade fails\")\n"
   ]
  },
  {
   "cell_type": "code",
   "execution_count": null,
   "metadata": {},
   "outputs": [],
   "source": [
    "# Use only if\n",
    "grade = 60\n",
    "\n"
   ]
  },
  {
   "cell_type": "markdown",
   "metadata": {},
   "source": [
    "### Write a python program calculate whether a bank account balance is below 0 and print appropriate message."
   ]
  },
  {
   "cell_type": "code",
   "execution_count": null,
   "metadata": {},
   "outputs": [],
   "source": [
    "# Use if else\n",
    "balance = 522\n",
    "\n"
   ]
  },
  {
   "cell_type": "markdown",
   "metadata": {},
   "source": [
    "### Using Else if statement"
   ]
  },
  {
   "cell_type": "code",
   "execution_count": null,
   "metadata": {},
   "outputs": [],
   "source": [
    "balance = 522\n",
    "\n"
   ]
  },
  {
   "cell_type": "markdown",
   "metadata": {},
   "source": [
    "### Python program to print  Fibonacci series between 0 to 50."
   ]
  },
  {
   "cell_type": "code",
   "execution_count": 3,
   "metadata": {},
   "outputs": [
    {
     "name": "stdout",
     "output_type": "stream",
     "text": [
      "Fibonacci sequence upto 50 :\n",
      "0 , 1 , 1 , 2 , 3 , 5 , 8 , 13 , 21 , 34 , 55 , 89 , 144 , 233 , 377 , 610 , 987 , 1597 , 2584 , 4181 , 6765 , 10946 , 17711 , 28657 , 46368 , 75025 , 121393 , 196418 , 317811 , 514229 , 832040 , 1346269 , 2178309 , 3524578 , 5702887 , 9227465 , 14930352 , 24157817 , 39088169 , 63245986 , 102334155 , 165580141 , 267914296 , 433494437 , 701408733 , 1134903170 , 1836311903 , 2971215073 , 4807526976 , 7778742049 , "
     ]
    }
   ],
   "source": [
    "nterms = 50\n",
    "\n",
    "a = 0\n",
    "b = 1\n",
    "\n",
    "count = 0\n",
    "\n",
    "if nterms <= 0:\n",
    "   print(\"enter a positive integer\")\n",
    "elif nterms == 1:\n",
    "   print(\"Fibonacci sequence upto\",nterms,\":\")\n",
    "   print(n1)\n",
    "else:\n",
    "   print(\"Fibonacci sequence upto\",nterms,\":\")\n",
    "   while count < nterms:\n",
    "       print(a,end=' , ')\n",
    "       nth = a + b\n",
    "       # update values\n",
    "       a = b\n",
    "       b = nth\n",
    "       count=count+1"
   ]
  },
  {
   "cell_type": "markdown",
   "metadata": {},
   "source": [
    "### Python program to find numbers which are divisible by 7 and multiple of 5 between a range 150 to 270"
   ]
  },
  {
   "cell_type": "code",
   "execution_count": 4,
   "metadata": {},
   "outputs": [
    {
     "name": "stdout",
     "output_type": "stream",
     "text": [
      "175\n",
      "210\n",
      "245\n"
     ]
    }
   ],
   "source": [
    "for number in range(150,270):\n",
    "    if number %7==0 and number %5==0 :\n",
    "        print(number)"
   ]
  },
  {
   "cell_type": "markdown",
   "metadata": {},
   "source": [
    "### Python program to Sum all the items in a list"
   ]
  },
  {
   "cell_type": "code",
   "execution_count": 102,
   "metadata": {},
   "outputs": [
    {
     "name": "stdout",
     "output_type": "stream",
     "text": [
      "74\n"
     ]
    }
   ],
   "source": [
    "def sum_list(items):\n",
    "    out = 0\n",
    "    for item in items:\n",
    "        out += item\n",
    "    return out\n",
    "print(sum_list([20,12,20,22]))"
   ]
  },
  {
   "cell_type": "markdown",
   "metadata": {},
   "source": [
    "### Python program to Remove duplicates from a list."
   ]
  },
  {
   "cell_type": "code",
   "execution_count": 101,
   "metadata": {},
   "outputs": [
    {
     "name": "stdout",
     "output_type": "stream",
     "text": [
      "[70, 40, 10, 80, 50, 20, 60, 30]\n"
     ]
    }
   ],
   "source": [
    "a = [10,20,30,40,50,60,70,40,80,50,40]\n",
    "print(list(set(a)))\n"
   ]
  },
  {
   "cell_type": "markdown",
   "metadata": {},
   "source": [
    "### Python program to Get the largest number from a list."
   ]
  },
  {
   "cell_type": "code",
   "execution_count": 106,
   "metadata": {},
   "outputs": [
    {
     "name": "stdout",
     "output_type": "stream",
     "text": [
      "28\n"
     ]
    }
   ],
   "source": [
    "def max_num_in_list( list ):\n",
    "    maxn = list[0]\n",
    "    for n in list:\n",
    "        if(n>maxn):\n",
    "            maxn = n\n",
    "    return maxn\n",
    "print(max_num_in_list([1, 12, 28, 0]))"
   ]
  },
  {
   "cell_type": "markdown",
   "metadata": {},
   "source": [
    "### Concatenation of Tuples."
   ]
  },
  {
   "cell_type": "code",
   "execution_count": 108,
   "metadata": {},
   "outputs": [
    {
     "name": "stdout",
     "output_type": "stream",
     "text": [
      "(0, 1, 2, 3, 'python', 'code')\n"
     ]
    }
   ],
   "source": [
    "# Code for concatenating 2 tuples\n",
    " \n",
    "tuple1 = (0, 1, 2, 3)\n",
    "tuple2 = ('python', 'code')\n",
    " \n",
    "# Concatenating above two\n",
    "print(tuple1+tuple2)"
   ]
  },
  {
   "cell_type": "markdown",
   "metadata": {},
   "source": [
    "### Nesting of Tuples."
   ]
  },
  {
   "cell_type": "code",
   "execution_count": 123,
   "metadata": {},
   "outputs": [
    {
     "name": "stdout",
     "output_type": "stream",
     "text": [
      "(0, 1, 2, 3, ('python', 'code'))\n"
     ]
    }
   ],
   "source": [
    "# Code for creating nested tuples\n",
    " \n",
    "tuple1 = (0, 1, 2, 3)\n",
    "tuple2 = ('python', 'code')\n",
    "mylist = list(tuple1)\n",
    "mylist.append(tuple2)\n",
    "tuple3 = tuple(mylist)\n",
    "print(tuple3)\n"
   ]
  },
  {
   "cell_type": "markdown",
   "metadata": {},
   "source": [
    "### Write a Python program to add an item in a tuple."
   ]
  },
  {
   "cell_type": "code",
   "execution_count": 7,
   "metadata": {},
   "outputs": [
    {
     "name": "stdout",
     "output_type": "stream",
     "text": [
      "(4, 6, 2, 8, 3, 1)\n",
      "(4, 6, 2, 8, 3, 1, 15, 20, 25)\n"
     ]
    }
   ],
   "source": [
    "#create a tuple\n",
    "tuplex = (4, 6, 2, 8, 3, 1) \n",
    "print(tuplex)\n",
    "#tuples are immutable, so you can not add new elements\n",
    "#using merge of tuples with the + operator you can add an element and it will create a new tuple\n",
    "\n",
    "#adding items in a specific index\n",
    "tuplex = tuplex[:6] + (15, 20, 25)\n",
    "print(tuplex)"
   ]
  },
  {
   "cell_type": "markdown",
   "metadata": {},
   "source": [
    "### Write a Python program to remove an item from a tuple."
   ]
  },
  {
   "cell_type": "code",
   "execution_count": 126,
   "metadata": {},
   "outputs": [
    {
     "name": "stdout",
     "output_type": "stream",
     "text": [
      "(1, 4, 7)\n",
      "(4, 7)\n"
     ]
    }
   ],
   "source": [
    "# Create a tuple and print it\n",
    "mytuple = (1,4,7)\n",
    "print(mytuple)\n",
    "\n",
    "# Find a way to remove an item of the tuple (Hint: Use other data types)\n",
    "mylist = list(mytuple)\n",
    "mylist.remove(1)\n",
    "mytuple = tuple(mylist)\n",
    "print(mytuple)"
   ]
  },
  {
   "cell_type": "markdown",
   "metadata": {},
   "source": [
    "### Python Program to Check if a given key already exists in a dictionary."
   ]
  },
  {
   "cell_type": "code",
   "execution_count": 153,
   "metadata": {},
   "outputs": [
    {
     "name": "stdout",
     "output_type": "stream",
     "text": [
      "True\n",
      "False\n"
     ]
    }
   ],
   "source": [
    "d = {1: 10, 2: 20, 3: 30, 4: 40, 5: 50, 6: 60}\n",
    "def is_key_present(x):\n",
    "    if(x in d.keys()):\n",
    "        return True\n",
    "    return False\n",
    "print(is_key_present(5))\n",
    "print(is_key_present(7))"
   ]
  },
  {
   "cell_type": "markdown",
   "metadata": {},
   "source": [
    "### Write a Python script to merge two Python dictionaries."
   ]
  },
  {
   "cell_type": "code",
   "execution_count": 160,
   "metadata": {},
   "outputs": [
    {
     "name": "stdout",
     "output_type": "stream",
     "text": [
      "{'a': 100, 'b': 200, 'x': 300, 'y': 200}\n"
     ]
    }
   ],
   "source": [
    "d1 = {'a': 100, 'b': 200}\n",
    "d2 = {'x': 300, 'y': 200}\n",
    "d1.update(d2)\n",
    "print(d1)\n"
   ]
  },
  {
   "cell_type": "markdown",
   "metadata": {},
   "source": [
    "### Write a Python function to find the Max of three numbers."
   ]
  },
  {
   "cell_type": "code",
   "execution_count": 80,
   "metadata": {
    "scrolled": true
   },
   "outputs": [
    {
     "name": "stdout",
     "output_type": "stream",
     "text": [
      "30\n"
     ]
    }
   ],
   "source": [
    "def max_of_two( x, y ):\n",
    "    if(x>y):\n",
    "        return x\n",
    "    return y\n",
    "def max_of_three( x, y, z ):\n",
    "    return max_of_two(x,max_of_two(y,z))\n",
    "print(max_of_three(13, 26, 30))"
   ]
  },
  {
   "cell_type": "markdown",
   "metadata": {
    "collapsed": true
   },
   "source": [
    "### Write a Python program to reverse a string."
   ]
  },
  {
   "cell_type": "code",
   "execution_count": 78,
   "metadata": {
    "scrolled": true
   },
   "outputs": [
    {
     "name": "stdout",
     "output_type": "stream",
     "text": [
      "DIASNI\n"
     ]
    }
   ],
   "source": [
    "def string_reverse(str1):\n",
    "    strlen = len(str1)\n",
    "    if(strlen==1):\n",
    "        return str1\n",
    "    \n",
    "    tempstr = str1[:strlen-1]\n",
    "    return str1[strlen-1] + string_reverse(tempstr)\n",
    "\n",
    "print(string_reverse('INSAID'))"
   ]
  },
  {
   "cell_type": "markdown",
   "metadata": {
    "collapsed": true
   },
   "source": [
    "### Write a Python function to calculate the factorial of a number "
   ]
  },
  {
   "cell_type": "code",
   "execution_count": 67,
   "metadata": {},
   "outputs": [
    {
     "name": "stdout",
     "output_type": "stream",
     "text": [
      "Input a number to compute the factiorial : 5\n",
      "120\n"
     ]
    }
   ],
   "source": [
    "def factorial(n):\n",
    "    if(n==1):\n",
    "        return 1\n",
    "    return n*factorial(n-1)\n",
    "n=int(input(\"Input a number to compute the factiorial : \"))\n",
    "print(factorial(n))"
   ]
  },
  {
   "cell_type": "markdown",
   "metadata": {},
   "source": [
    "### Write a Python function to sum all the numbers in a list."
   ]
  },
  {
   "cell_type": "code",
   "execution_count": 63,
   "metadata": {},
   "outputs": [
    {
     "name": "stdout",
     "output_type": "stream",
     "text": [
      "20\n"
     ]
    }
   ],
   "source": [
    "def sum(numbers):\n",
    "    output = 0\n",
    "    for number in numbers:\n",
    "        output += number\n",
    "    return output\n",
    "print(sum((8, 2, 3, 0, 7)))"
   ]
  },
  {
   "cell_type": "markdown",
   "metadata": {
    "collapsed": true
   },
   "source": [
    "### Write a Python function to check whether a number is in a given range."
   ]
  },
  {
   "cell_type": "code",
   "execution_count": 2,
   "metadata": {},
   "outputs": [
    {
     "name": "stdout",
     "output_type": "stream",
     "text": [
      "The number is outside the given range.\n"
     ]
    }
   ],
   "source": [
    "def test_range(n):\n",
    "    if n in range(3,9):        # 3<=5 and 9>=5\n",
    "        print( \" %s is in the range\" % n)\n",
    "    else :\n",
    "        print(\"The number is outside the given range.\")\n",
    "test_range(10)"
   ]
  },
  {
   "cell_type": "markdown",
   "metadata": {},
   "source": [
    "### Find the value of pi using math module."
   ]
  },
  {
   "cell_type": "code",
   "execution_count": 62,
   "metadata": {},
   "outputs": [
    {
     "name": "stdout",
     "output_type": "stream",
     "text": [
      "3.141592653589793\n"
     ]
    }
   ],
   "source": [
    "# import statement example\n",
    "# to import standard module math\n",
    "\n",
    "import math\n",
    "print(math.pi)"
   ]
  },
  {
   "cell_type": "markdown",
   "metadata": {},
   "source": [
    "### Write a Python program to read an entire text file.\n",
    "\n",
    "### Content of text.txt.\n",
    "\n",
    "### What is Python language?      \n",
    "\n",
    "#### Python is a widely used high-level, general-purpose, interpreted, dynamic programming language."
   ]
  },
  {
   "cell_type": "code",
   "execution_count": 60,
   "metadata": {},
   "outputs": [
    {
     "name": "stdout",
     "output_type": "stream",
     "text": [
      "<class 'str'>\n"
     ]
    },
    {
     "data": {
      "text/plain": [
       "'What is Python language?\\nPython is a widely used high-level, general-purpose, interpreted, dynamic programming language.'"
      ]
     },
     "execution_count": 60,
     "metadata": {},
     "output_type": "execute_result"
    }
   ],
   "source": [
    "def file_read(fname):\n",
    "    f = open(fname, \"r+\")\n",
    "    contents = f.read()\n",
    "    \n",
    "    return contents\n",
    "\n",
    "file_read('test.txt')"
   ]
  },
  {
   "cell_type": "markdown",
   "metadata": {
    "collapsed": true
   },
   "source": [
    "### Write a Python program to read a file line by line and store it into a list."
   ]
  },
  {
   "cell_type": "code",
   "execution_count": 61,
   "metadata": {},
   "outputs": [
    {
     "name": "stdout",
     "output_type": "stream",
     "text": [
      "<class 'list'>\n"
     ]
    },
    {
     "data": {
      "text/plain": [
       "['What is Python language?\\n',\n",
       " 'Python is a widely used high-level, general-purpose, interpreted, dynamic programming language.']"
      ]
     },
     "execution_count": 61,
     "metadata": {},
     "output_type": "execute_result"
    }
   ],
   "source": [
    "def file_read(fname):\n",
    "        f = open(fname, \"r+\")\n",
    "        f1 = f.readlines()\n",
    "        mylist = []\n",
    "        for line in f1:\n",
    "            mylist.append(line)\n",
    "       \n",
    "        return mylist\n",
    "\n",
    "file_read('test.txt')"
   ]
  },
  {
   "cell_type": "markdown",
   "metadata": {},
   "source": [
    "### A python program to create user-defined exception."
   ]
  },
  {
   "cell_type": "code",
   "execution_count": 50,
   "metadata": {},
   "outputs": [
    {
     "name": "stdout",
     "output_type": "stream",
     "text": [
      "A New Exception occured: 0.42857142857142855\n"
     ]
    }
   ],
   "source": [
    "class MyError(Exception):\n",
    " \n",
    "    # Constructor or Initializer\n",
    "    def __init__(self, value):\n",
    "        self.value = value\n",
    " \n",
    "    # __str__ is to print() the value\n",
    "    def __str__(self):\n",
    "        return 'A New Exception occured: {}'.format(self.value)# Your code goes here to get -> 'A New Exception occured: 0.42857142857142855'\n",
    " \n",
    "try:\n",
    "    raise(MyError(3/7))\n",
    " \n",
    "except MyError as error:\n",
    "    print(error)\n"
   ]
  },
  {
   "cell_type": "markdown",
   "metadata": {},
   "source": [
    "### Write a Python program to calculate the discriminant value. (b <sup>2</sup> - 4ac)"
   ]
  },
  {
   "cell_type": "code",
   "execution_count": 44,
   "metadata": {},
   "outputs": [
    {
     "name": "stdout",
     "output_type": "stream",
     "text": [
      "The a value: 11\n",
      "The b value: 111\n",
      "The c value: 111\n"
     ]
    },
    {
     "data": {
      "text/plain": [
       "7437.0"
      ]
     },
     "execution_count": 44,
     "metadata": {},
     "output_type": "execute_result"
    }
   ],
   "source": [
    "def discriminant():\n",
    "    a_value = float(input('The a value: '))\n",
    "    b_value = float(input('The b value: '))\n",
    "    c_value = float(input('The c value: '))\n",
    "    \n",
    "    # Calculate the discriminant here\n",
    "    disc = (b_value ** 2) - (4*a_value*c_value)\n",
    "    return disc # The value\n",
    "\n",
    "\n",
    "discriminant()\n"
   ]
  },
  {
   "cell_type": "code",
   "execution_count": 10,
   "metadata": {},
   "outputs": [
    {
     "name": "stdout",
     "output_type": "stream",
     "text": [
      "Hello World\n"
     ]
    }
   ],
   "source": [
    "print('Hello World')"
   ]
  },
  {
   "cell_type": "code",
   "execution_count": null,
   "metadata": {},
   "outputs": [],
   "source": [
    "print('What am I typing are you able to see?')"
   ]
  }
 ],
 "metadata": {
  "kernelspec": {
   "display_name": "Python 3",
   "language": "python",
   "name": "python3"
  },
  "language_info": {
   "codemirror_mode": {
    "name": "ipython",
    "version": 3
   },
   "file_extension": ".py",
   "mimetype": "text/x-python",
   "name": "python",
   "nbconvert_exporter": "python",
   "pygments_lexer": "ipython3",
   "version": "3.7.3"
  }
 },
 "nbformat": 4,
 "nbformat_minor": 2
}
