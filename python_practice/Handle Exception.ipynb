{
 "cells": [
  {
   "cell_type": "code",
   "execution_count": 4,
   "metadata": {},
   "outputs": [],
   "source": [
    "def ask():\n",
    "    print('hello')\n",
    "    while True:\n",
    "        try:\n",
    "            myinput = int(input('Please enter an integer'))\n",
    "        except:\n",
    "            print('input is not an integer, please enter again')\n",
    "            continue\n",
    "        else:\n",
    "            print(\"square of {}: is {} \".format(myinput, myinput**2))\n",
    "            break\n",
    "        finally:\n",
    "            print('Thank you, all done')"
   ]
  },
  {
   "cell_type": "code",
   "execution_count": 5,
   "metadata": {},
   "outputs": [
    {
     "name": "stdout",
     "output_type": "stream",
     "text": [
      "hello\n",
      "Please enter an integer20\n",
      "square of 20: is 400 \n",
      "Thank you, all done\n"
     ]
    }
   ],
   "source": [
    "ask()"
   ]
  },
  {
   "cell_type": "code",
   "execution_count": null,
   "metadata": {},
   "outputs": [],
   "source": []
  }
 ],
 "metadata": {
  "kernelspec": {
   "display_name": "Python 3",
   "language": "python",
   "name": "python3"
  },
  "language_info": {
   "codemirror_mode": {
    "name": "ipython",
    "version": 3
   },
   "file_extension": ".py",
   "mimetype": "text/x-python",
   "name": "python",
   "nbconvert_exporter": "python",
   "pygments_lexer": "ipython3",
   "version": "3.7.3"
  }
 },
 "nbformat": 4,
 "nbformat_minor": 2
}
